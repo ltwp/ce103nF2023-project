{
 "cells": [
  {
   "cell_type": "markdown",
   "id": "154695ee-8fa4-4538-9fad-91431a22ed19",
   "metadata": {},
   "source": [
    "# Terrestrial Hydrology Fall 2023 Lab 6 - Pumping drawdown modeling\n",
    "Hi everyone! This is our sixth and final  python lab assignment. Just as last time, you will complete these assignments with a mix of responses as code and narrative text within this jupyter notebook document. To complete the assignment, go to File > Print Preview, and export as a PDF (.pdf file) before uploading the assignment to Gradescope.\n",
    "\n",
    "Look for triple @@@ signs in places where we expect you to write code or respond to a question. The rest of the notebook should not require modification."
   ]
  },
  {
   "cell_type": "markdown",
   "id": "759afbb8-f128-4965-a21c-1b921301d625",
   "metadata": {},
   "source": [
    "This assignment is based on code developed by Walt McNab, who is a computational environmental scientist who has developed many scripts to demonstrate common concepts in hydrogeology. You can read more about him and find other tools/examples here: https://numericalenvironmental.wordpress.com/"
   ]
  },
  {
   "cell_type": "code",
   "execution_count": 1,
   "id": "059ed917-fedd-44a6-8a9a-c89cdff58658",
   "metadata": {},
   "outputs": [],
   "source": [
    "import numpy as np\n",
    "import matplotlib.pyplot as plt\n",
    "from datetime import datetime\n",
    "from matplotlib import dates\n",
    "import matplotlib.dates as mdates\n",
    "import scipy\n",
    "from scipy.special import *\n",
    "from scipy.spatial import distance\n",
    "from matplotlib import cm\n",
    "from matplotlib.ticker import LinearLocator, FormatStrFormatter\n",
    "from mpl_toolkits.mplot3d import Axes3D\n",
    "import pandas as pd"
   ]
  },
  {
   "cell_type": "markdown",
   "id": "a7af81d3-bda8-4b32-a74a-54d21e86260e",
   "metadata": {},
   "source": [
    "# [1] Defining Functions\n",
    "Walt McNab's code is a very nice example of Object-Oriented Programming (OOP). Read more on this method here: https://realpython.com/python3-object-oriented-programming/. Here, we will use his code to define a number of functions for use in this lab. "
   ]
  },
  {
   "cell_type": "code",
   "execution_count": 2,
   "id": "6ab853eb-10bd-4857-8548-422c67d1c8c2",
   "metadata": {},
   "outputs": [],
   "source": [
    "#The Aquifer class is simply a container for aquifer properties (hydraulic conductivity, specific storage, and thickness) which are all assumed to be uniform\n",
    "\n",
    "class Aquifer: # container for aquifer properties (uniform)\n",
    "\n",
    "    def __init__(self, K, Ss, b):\n",
    "        self.K = K                  # hydraulic conductivity\n",
    "        self.Ss = Ss                # specific storage\n",
    "        self.b = b                  # aquifer thickness\n"
   ]
  },
  {
   "cell_type": "code",
   "execution_count": 3,
   "id": "c67b95c2-bd85-4fc3-a24f-72c753e1418d",
   "metadata": {},
   "outputs": [],
   "source": [
    "class Well: #The Well class contains well characteristics (location, pumping rate)\n",
    "\n",
    "    def __init__(self, x, y, Q, aquifer):\n",
    "        self.loc = np.array([[x, y]])       # well coordinates\n",
    "        self.Q = Q                          # pumping rate\n",
    "        self.aquifer = aquifer              # aquife robject\n",
    "\n",
    "    def W(self, u): # A Well object is associated with each pumping well in the model\n",
    "        # exponential integral/well function\n",
    "        return expn(1,u)\n",
    "\n",
    "    def S(self, r, t):\n",
    "        # change in hydraulic head h0 - h(r,t) from pumping\n",
    "        u = (r**2)*self.aquifer.Ss*self.aquifer.b/(4.*self.aquifer.K*self.aquifer.b*t) \n",
    "        return self.Q*self.W(u)/(4.*np.pi*self.aquifer.K*self.aquifer.b)\n",
    "\n",
    "    def Impact(self, pts, t):\n",
    "        # calculate the hydraulic head impact from well to a \n",
    "        # n x 2 vector of (x, y) points, loc\n",
    "        r = distance.cdist(self.loc, pts)[0]\n",
    "        return self.S(r, t)"
   ]
  },
  {
   "cell_type": "code",
   "execution_count": 4,
   "id": "4125fb5a-a64b-4fcc-8f83-72946c9c3e35",
   "metadata": {},
   "outputs": [],
   "source": [
    "#The Grid class contains an array of points. Each point is characterized by a total drawdown, with a contribution from each well in the model. \n",
    "#A broadcasting approach is used to speed up calculations, so that a large number of both grid points and wells can be used, if warranted in the model:\n",
    "\n",
    "class Grid:\n",
    "\n",
    "    def __init__(self, x0, y0, xf, yf, num_x, num_y):\n",
    "        # create a uniform grid with supplied specs and \n",
    "        # convert to a n x 2 array\n",
    "        x = np.linspace(x0, xf, num_x+1)\n",
    "        y = np.linspace(y0, yf, num_y+1)\n",
    "        X, Y = np.meshgrid(x,y)\n",
    "        self.points = np.matrix([X.flatten(), Y.flatten()]).T\n",
    "        self.S = np.zeros(len(self.points), float)\n",
    "\n",
    "    def Calculate(self, well, t):\n",
    "        \n",
    "        # calculate net drawdown and write to output file\n",
    "        for w in well:\n",
    "            self.S += w.Impact(self.points, t)    \n",
    "        final_head = np.empty((3,int(len(self.points))))\n",
    "        for (i, pt) in enumerate(self.points):\n",
    "            final_head[0,i] = pt[0, 0]\n",
    "            final_head[1,i] = pt[0, 1]\n",
    "            final_head[2,i] = self.S[i]\n",
    "        return final_head\n",
    "        "
   ]
  },
  {
   "cell_type": "code",
   "execution_count": 5,
   "id": "a0d304da-3530-455c-9f95-d05753fd20a4",
   "metadata": {},
   "outputs": [],
   "source": [
    "# The following function simply reads the input file for the grid (domain) definition and creates corresponding objects:\n",
    "def ReadParams():\n",
    "    # read model parameters and assign to appropriate object\n",
    "    param = []     \n",
    "    input_file = open('params.txt','r')\n",
    "    for line in input_file:\n",
    "        line_input = line.split()\n",
    "        param.append(line_input[1]) \n",
    "    input_file.close()\n",
    "           # aquifer thickness\n",
    "    x0 = float(param[0])        # grid margins, x-direction\n",
    "    xf = float(param[1])\n",
    "    y0 = float(param[2])        # grid margings, y-direction\n",
    "    yf = float(param[3])\n",
    "    num_x = int(param[4])       # grid discretization\n",
    "    num_y = int(param[5])\n",
    "    grid = Grid(x0, y0, xf, yf, num_x, num_y)\n",
    "    return grid\n",
    "    "
   ]
  },
  {
   "cell_type": "code",
   "execution_count": 6,
   "id": "04554843-4ead-43cb-852b-f53da5075bd0",
   "metadata": {},
   "outputs": [],
   "source": [
    "# The following function takes in the well position/Q information and creates corresponding objects:\n",
    "def ReadWells(aquifer,well_loc):\n",
    "    # read well matrix and assign well objects\n",
    "    well = []\n",
    "    input_file = well_loc\n",
    "    if len(input_file.shape)>1:\n",
    "        for i in range(input_file.shape[0]):\n",
    "            line_input = input_file[i,:]\n",
    "            well.append(Well(float(line_input[0]), float(line_input[1]),\n",
    "                float(line_input[2]), aquifer))\n",
    "    else:\n",
    "        well.append(Well(float(line_input[0]), float(line_input[1]),\n",
    "                float(line_input[2]), aquifer))\n",
    "    return well            "
   ]
  },
  {
   "cell_type": "markdown",
   "id": "e5806e64-a7ec-4e5d-bda3-0514c0d27c70",
   "metadata": {},
   "source": [
    "# Question 1\n",
    "\n",
    "Within the last 5 cells, identify the place where the actual drawdown calculation happens. Comparing the equation to the lecture notes, what specific scenario are we solving for here? What is this equation called?"
   ]
  },
  {
   "cell_type": "markdown",
   "id": "cc399b4d-a909-4ae1-913e-e83dee98a64a",
   "metadata": {},
   "source": [
    "@@@ "
   ]
  },
  {
   "cell_type": "markdown",
   "id": "1e978279-e808-41bd-b4f8-2148f7647336",
   "metadata": {},
   "source": [
    "# [2] Choose input parameters for your aquifer & plot\n",
    "Set the hydraulic conductivity K to 40 m/day, the storativity to 2.50*10^(-4) and the thickness to 30 m."
   ]
  },
  {
   "cell_type": "code",
   "execution_count": 7,
   "id": "c91076e8-ccf6-4289-a14c-60f24214f974",
   "metadata": {},
   "outputs": [],
   "source": [
    "K = @@@     # hydraulic conductivity\n",
    "Ss = @@@     # storativity\n",
    "b = @@@ # aquifer thickness"
   ]
  },
  {
   "cell_type": "markdown",
   "id": "36ebcc55-01f2-4097-a945-6d5af70912d9",
   "metadata": {},
   "source": [
    "The domain is a square of 25000 by 25000 m.  **Here we are placing a single well at the center of the domain with a pumping rate of -10^5 m^3/day. The array takes x-location, y-location, and flow rate, in this order.** We will use this syntax later, so make sure to look at this! "
   ]
  },
  {
   "cell_type": "code",
   "execution_count": 8,
   "id": "29bac28e-094d-4b2a-86fb-db711018de79",
   "metadata": {},
   "outputs": [],
   "source": [
    "well_loc = np.array([[12500, 12500, -10**5]])"
   ]
  },
  {
   "cell_type": "markdown",
   "id": "b8525b88-a13c-4ffa-8539-81172a503df8",
   "metadata": {},
   "source": [
    "The following box now reads the parameters and sets up the well location in the grid. You will have to rerun the below code when you change the aquifer parameters. "
   ]
  },
  {
   "cell_type": "code",
   "execution_count": 9,
   "id": "a61deace-7853-45af-8e98-6599d668e04e",
   "metadata": {},
   "outputs": [],
   "source": [
    "grid = ReadParams()\n",
    "well_input = ReadWells(Aquifer(K, Ss, b), well_loc)"
   ]
  },
  {
   "cell_type": "markdown",
   "id": "6c8d88aa-0763-4971-af36-2c4200d372fc",
   "metadata": {},
   "source": [
    "Below is an example on how to generate  3d and 2d plots for t = 50 days. Note you might get an error running the below code block, but two plots should be produced (the first 3D the second 2D). "
   ]
  },
  {
   "cell_type": "code",
   "execution_count": 10,
   "id": "447cc184-8435-49fe-8f26-4ba5dd1347c8",
   "metadata": {},
   "outputs": [
    {
     "name": "stderr",
     "output_type": "stream",
     "text": [
      "C:\\Users\\lukas\\anaconda3\\lib\\site-packages\\mpl_toolkits\\mplot3d\\proj3d.py:109: RuntimeWarning: invalid value encountered in true_divide\n",
      "  txs, tys, tzs = vecw[0]/w, vecw[1]/w, vecw[2]/w\n"
     ]
    },
    {
     "data": {
      "image/png": "[encoded data removed]",
      "text/plain": [
       "<Figure size 432x288 with 1 Axes>"
      ]
     },
     "metadata": {
      "needs_background": "light"
     },
     "output_type": "display_data"
    },
    {
     "data": {
      "image/png": "[encoded data removed]",
      "text/plain": [
       "<Figure size 432x288 with 2 Axes>"
      ]
     },
     "metadata": {
      "needs_background": "light"
     },
     "output_type": "display_data"
    }
   ],
   "source": [
    "t = 50\n",
    "hh = grid.Calculate(well_input, t)\n",
    "fig, ax = plt.subplots(subplot_kw={'projection': '3d'})\n",
    "ax.plot_trisurf(hh[0], hh[1], hh[2], cmap = cm.viridis)\n",
    "ax.set_title('t = 50 days');\n",
    "plt.show()\n",
    "\n",
    "\n",
    "## The following code will show you a birds-eye view of the same plot:\n",
    "# we put the data into a dataframe\n",
    "df = pd.DataFrame(dict(x=hh[0], y=hh[1], z=hh[2]))\n",
    "xcol, ycol, zcol = \"x\", \"y\", \"z\"\n",
    "#sort values\n",
    "df = df.sort_values(by=[xcol, ycol])\n",
    "xvals = df[xcol].unique()\n",
    "yvals = df[ycol].unique()\n",
    "#reshape the drawdown values into a 2D map\n",
    "zvals = df[zcol].values.reshape(len(xvals), len(yvals)).T\n",
    "\n",
    "# Now do the actual plotting\n",
    "cs = plt.contourf(xvals, yvals, zvals)\n",
    "plt.colorbar()\n",
    "plt.contour(cs, colors='k')\n",
    "plt.show()"
   ]
  },
  {
   "cell_type": "markdown",
   "id": "875f04d6-c608-42d4-bc30-6df3fcd4b3bb",
   "metadata": {},
   "source": [
    "# [3] Modifying the Well Space"
   ]
  },
  {
   "cell_type": "markdown",
   "id": "367123d0",
   "metadata": {},
   "source": [
    "# Question 2\n",
    "How does the drawdown evolve between day 50, day 100, and day 200? Plot the necessary figures to answer this question."
   ]
  },
  {
   "cell_type": "markdown",
   "id": "339e76ba-da39-42d0-860b-0ed6cf7e8a05",
   "metadata": {},
   "source": [
    "@@@"
   ]
  },
  {
   "cell_type": "code",
   "execution_count": null,
   "id": "a1e02af3-9169-4b1c-a04e-5018472efb3c",
   "metadata": {},
   "outputs": [],
   "source": [
    "@@@"
   ]
  },
  {
   "cell_type": "markdown",
   "id": "a7179164-a9cd-4792-85ef-35fea6e588d7",
   "metadata": {},
   "source": [
    "# Question 3\n",
    "How does the drawdown evolve when the conductivity is twice the intial one? What about when it is half? Does this make sense? Plot the necessary figures to answer this question."
   ]
  },
  {
   "cell_type": "markdown",
   "id": "9485d106-56dc-4088-9b94-b944dd86c885",
   "metadata": {},
   "source": [
    "@@@"
   ]
  },
  {
   "cell_type": "code",
   "execution_count": null,
   "id": "8f2131d8-9026-49f1-b07e-b78537bfd457",
   "metadata": {},
   "outputs": [],
   "source": [
    "@@@"
   ]
  },
  {
   "cell_type": "markdown",
   "id": "23a57a63-1060-45eb-b9df-aeb8506bf802",
   "metadata": {},
   "source": [
    "# Question 4\n",
    "How does the drawdown evolve when the aquifer thickness is twice the intial one? What about when it is half? Plot the necessary figures to answer this question."
   ]
  },
  {
   "cell_type": "markdown",
   "id": "79296383-188a-43c2-bd26-bbaeb704a7bd",
   "metadata": {},
   "source": [
    "@@@ "
   ]
  },
  {
   "cell_type": "code",
   "execution_count": null,
   "id": "59a9254d-a574-4437-b4c6-0d308d3e9ef9",
   "metadata": {},
   "outputs": [],
   "source": [
    "@@@"
   ]
  },
  {
   "cell_type": "markdown",
   "id": "234d26a4-5458-49b9-b697-e8a53cdcf66c",
   "metadata": {},
   "source": [
    "# Question 5\n",
    "Place two wells with equal pumping rates far away from each other using the syntax: well_loc = np.array([[xloc1, yloc1, Q1],[xloc2, yloc2, Q2]]). Vary the pumping rate (Q values), conductivity and aquifer thickness to see how various values will affect the entire domain. \n",
    "\n",
    "Then, show a figure of an interesting pattern you obtained. \n",
    "\n",
    "And answer: how do you need to modify the pumping rate and/or aquifer parameters to see a drawdown in between the two wells? "
   ]
  },
  {
   "cell_type": "markdown",
   "id": "e426e6da-2095-4272-b635-70f907b68c4f",
   "metadata": {},
   "source": [
    "@@@"
   ]
  },
  {
   "cell_type": "code",
   "execution_count": null,
   "id": "ad521455-de33-4c48-a027-0c484132fed0",
   "metadata": {},
   "outputs": [],
   "source": [
    "@@@"
   ]
  },
  {
   "cell_type": "markdown",
   "id": "777ee2c0-6b5c-429f-8167-b4fc0e756c7f",
   "metadata": {},
   "source": [
    "# Question 6\n",
    "Place five or more wells in the domain. Play with well placements and pumping rate to develop intuition for how the various wells will interact with each other. Show a figure of an interesting pattern you obtained."
   ]
  },
  {
   "cell_type": "code",
   "execution_count": null,
   "id": "78858b6c-a32d-49fe-b216-96d5a842d11a",
   "metadata": {},
   "outputs": [],
   "source": [
    "@@@"
   ]
  },
  {
   "cell_type": "markdown",
   "id": "42c49695-180c-4537-9acf-692b93bdaf79",
   "metadata": {},
   "source": [
    "# THE END! :) "
   ]
  }
 ],
 "metadata": {
  "kernelspec": {
   "display_name": "Python 3 (ipykernel)",
   "language": "python",
   "name": "python3"
  },
  "language_info": {
   "codemirror_mode": {
    "name": "ipython",
    "version": 3
   },
   "file_extension": ".py",
   "mimetype": "text/x-python",
   "name": "python",
   "nbconvert_exporter": "python",
   "pygments_lexer": "ipython3",
   "version": "3.9.12"
  }
 },
 "nbformat": 4,
 "nbformat_minor": 5
}

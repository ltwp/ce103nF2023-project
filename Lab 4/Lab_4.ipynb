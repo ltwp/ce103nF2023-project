{
 "cells": [
  {
   "cell_type": "markdown",
   "id": "b53ee769-ed21-44ed-bddd-a3abe34e0b71",
   "metadata": {},
   "source": [
    "# Terrestrial Hydrology Fall 2023 Lab 4 - Infiltration modeling\n",
    "\n",
    "Look for triple @@@ signs in places where we expect you to write code or respond to a question. \n",
    "The rest of the notebook should not require modification. "
   ]
  },
  {
   "cell_type": "code",
   "execution_count": null,
   "id": "0d84de8d-6f0c-4295-8d1f-cfe073af4e04",
   "metadata": {},
   "outputs": [],
   "source": [
    "import numpy as np\n",
    "import matplotlib.pyplot as plt\n",
    "from datetime import datetime\n",
    "from matplotlib import dates\n",
    "import matplotlib.dates as mdates\n",
    "import scipy"
   ]
  },
  {
   "cell_type": "markdown",
   "id": "a93182ee-405f-420e-8d8e-4baa6c57da7b",
   "metadata": {},
   "source": [
    "The objective of this lab is to write two python functions: one for the infiltration rate, f, based on the Philip solution to Richard's equation, and the other for the cumulative infiltration, F."
   ]
  },
  {
   "cell_type": "markdown",
   "id": "d4b0b29e-5159-4f8d-9a92-6c049d3d4753",
   "metadata": {},
   "source": [
    "# [1] Function definition\n",
    "We will start by defining two piecewise functions for f and F. Functions are very useful because they can be called switching the input parameters very easily."
   ]
  },
  {
   "cell_type": "code",
   "execution_count": null,
   "id": "a4d20d75-8327-4061-a21a-6bda4c731888",
   "metadata": {},
   "outputs": [],
   "source": [
    "## Here is the function definition: we use \"def\" to indicate we are making a function\n",
    "# In parenthesis, we give all the variables that the function will take in\n",
    "\n",
    "def Philip_infiltration(t, K_s, psi_s, theta_s, b, theta_0, P):\n",
    "    # Here, you have access to all of the variables above. You can now define variables, like S_p below. Complete the rest! \n",
    "    \n",
    "    #Write the equation for the sorptivity, S_p. We'll do this one for you. \n",
    "    S_p = ((theta_s-theta_0)*K_s*abs(psi_s)*(2*b+3)/(b+3))**(1/2) #cm/hr^(1/2)\n",
    "    \n",
    "    #Write the equation for the time to ponding, t_p\n",
    "    t_p = @@@ #hr\n",
    "    \n",
    "    #Write the equation for the compression time, t_c\n",
    "    t_c = @@@ #hr\n",
    "\n",
    "### Now we will define the piece wise function using an if statement\n",
    "    \n",
    "    # We start by making an emtpy array to store the values of f at the various time steps. \n",
    "    # The array should have the same size as our input x-variable: t (time), so that each t has an f value. \n",
    "    f_Philip = np.ones(t.shape)\n",
    "    \n",
    "    #We loop through all the values of t\n",
    "    for i in range(len(t)):\n",
    "        if t[i] < t_p:\n",
    "            f_Philip[i] = @@@ #cm/hr\n",
    "        else:\n",
    "            f_Philip[i] = @@@ #cm/hr\n",
    "            \n",
    "    # To finish writing a function, we also need to \"return\" something. This is the output of the function, f. \n",
    "    return f_Philip\n"
   ]
  },
  {
   "cell_type": "code",
   "execution_count": null,
   "id": "09bb707d-a2b7-410b-b59c-61ed3d3e320b",
   "metadata": {},
   "outputs": [],
   "source": [
    "## Similarly to above, we use def to show Python we are defining a function\n",
    "def Philip_cumul(t, K_s, psi_s, theta_s, b, theta_0, P):\n",
    "    \n",
    "    # We have to redefine S_p, t_p and t_c, because variables defined within a functions are not accessible outside of the function.\n",
    "    # Copy below what you had in the previous function. \n",
    "    S_p = @@@ #cm/hr^(1/2)\n",
    "    t_p = @@@ #hr\n",
    "    t_c = @@@ #hr\n",
    "    \n",
    "## We now define the piecewise function ### \n",
    "    F_Philip = np.ones(t.shape)\n",
    "    for i in range(len(t)):\n",
    "        if t[i] < t_p:\n",
    "            F_Philip[i] = @@@ #cm\n",
    "\n",
    "        else:\n",
    "            F_Philip[i] = @@@ #cm\n",
    "    \n",
    "    return F_Philip"
   ]
  },
  {
   "cell_type": "markdown",
   "id": "4c2c1373-2ce1-4d72-833b-e25feb47f72f",
   "metadata": {},
   "source": [
    "# [2] Input the parameters \n",
    "Use the parameters for K_s, psi_s, theta_s, b, theta_0, and P from HW#4 Exercise 1 to test our functions are working properly."
   ]
  },
  {
   "cell_type": "code",
   "execution_count": null,
   "id": "4cec0725-a9f0-493a-9a35-df921646a27b",
   "metadata": {},
   "outputs": [],
   "source": [
    "#Porosity\n",
    "theta_s_val = @@@\n",
    "\n",
    "#Initial soil volumetric water content\n",
    "theta_0_val = @@@\n",
    "\n",
    "# Saturdated hydraulic conductivity\n",
    "K_s_val = @@@ # cm/h\n",
    "\n",
    "# Saturated tension head\n",
    "psi_s_val = @@@ # cm\n",
    "\n",
    "#Brooks-Corey \"b\" parameter\n",
    "b = @@@\n",
    "\n",
    "#Rainfall rate\n",
    "P_val = @@@ #cm/hr"
   ]
  },
  {
   "cell_type": "markdown",
   "id": "3c895ae9-e0a4-4333-8ed5-39e51af2a608",
   "metadata": {},
   "source": [
    "We're almost ready to test our functions. They are written to accept arrays of t values. Make an array of 100 values of time t at which you will calculate your f and F. The array should go from 0 to 2h, the duration of the rain event. Use the np.linspace() function to do this. "
   ]
  },
  {
   "cell_type": "code",
   "execution_count": null,
   "id": "d1325022-20e8-4644-b645-bbbe879eed1d",
   "metadata": {},
   "outputs": [],
   "source": [
    "t_val = @@@ #hr"
   ]
  },
  {
   "cell_type": "markdown",
   "id": "07725480-6690-4862-8c36-bc2e437e0462",
   "metadata": {},
   "source": [
    "Print f(t). Check that the last value matches f(tp) in HW#4 for t = 2hours!! If it doesn't you probably have a typo!! (Check the solution guide for this value if you need!)"
   ]
  },
  {
   "cell_type": "code",
   "execution_count": null,
   "id": "81608c78-b76e-4fc2-831f-6c49625b1d31",
   "metadata": {},
   "outputs": [],
   "source": [
    "print(Philip_infiltration(t_val, K_s_val, psi_s_val, theta_s_val, b_val, theta_0_val, P_val))"
   ]
  },
  {
   "cell_type": "markdown",
   "id": "f8006cbf",
   "metadata": {},
   "source": [
    "How print F(t) for the same times and parameters. The final value here is the answer to Exercise 1d in HW#4. "
   ]
  },
  {
   "cell_type": "code",
   "execution_count": null,
   "id": "6050a34c-0f6f-48cf-9d04-721842ea767d",
   "metadata": {},
   "outputs": [],
   "source": [
    "print(@@@"
   ]
  },
  {
   "cell_type": "markdown",
   "id": "8ea7aeb8-6da5-49bc-a0aa-dedba0521c59",
   "metadata": {},
   "source": [
    "Plot the two functions versus time! "
   ]
  },
  {
   "cell_type": "code",
   "execution_count": null,
   "id": "0bd7d970-4bc7-4e5a-823f-ea88fd24a3ae",
   "metadata": {},
   "outputs": [],
   "source": [
    "#Example for f(t)\n",
    "plt.plot(t_val,Philip_infiltration(t_val, K_s_val, psi_s_val, theta_s_val, b_val, theta_0_val, P_val))\n",
    "plt.xlabel('Time (hours)') \n",
    "plt.ylabel('Infiltration rate (cm/hr)') \n",
    "plt.show()\n",
    "\n",
    "# Now do the same for F(t)\n",
    "#@@@"
   ]
  },
  {
   "cell_type": "markdown",
   "id": "00adfaaa-627e-4324-99d2-2ca6eb66d5b0",
   "metadata": {},
   "source": [
    "# [3] Modifying input parameters to understand their effects\n",
    "We will now change some of the soil and moisture parameters to study what happen to infiltration as these parameters change. We will be plotting the functions directly and making the changes into the calls to the two functions. Look at the example below."
   ]
  },
  {
   "cell_type": "markdown",
   "id": "154dc42e-39d7-46d0-97d0-fa3202d2d84e",
   "metadata": {},
   "source": [
    "## [a] Rainfall input\n",
    "Modifying the rainfall input: **4 cm/hour, 5 cm/hour, 6cm/hr**"
   ]
  },
  {
   "cell_type": "code",
   "execution_count": null,
   "id": "5e578489-2398-4e88-8ebe-0e8b251f2558",
   "metadata": {},
   "outputs": [],
   "source": [
    "#Example for f(t)\n",
    "plt.plot(t_val,Philip_infiltration(t_val, K_s_val, psi_s_val, theta_s_val, b_val, theta_0_val, 4))\n",
    "plt.plot(t_val,Philip_infiltration(t_val, K_s_val, psi_s_val, theta_s_val, b_val, theta_0_val, 5))\n",
    "plt.plot(t_val,Philip_infiltration(t_val, K_s_val, psi_s_val, theta_s_val, b_val, theta_0_val, 6))\n",
    "plt.legend(['4 cm/hr', '5 cm/hr', '6 cm/hr'])\n",
    "plt.xlabel('Time (hours)') \n",
    "plt.ylabel('Infiltration rate (cm/hr)') \n",
    "plt.title('Variations in rainfall input')\n",
    "plt.show()\n",
    "\n",
    "# Now do the same for F(t)\n",
    "#@@@"
   ]
  },
  {
   "cell_type": "markdown",
   "id": "91698563-8422-449a-9650-b9d6963e0ff9",
   "metadata": {},
   "source": [
    "## [b] Initial water content\n",
    "Use P_val for the rainfall (our original value) and now modify the theta_0 values: **0.4, 0.45, 0.48** "
   ]
  },
  {
   "cell_type": "code",
   "execution_count": null,
   "id": "e7c347ae-4389-413b-8e5f-7cb829132081",
   "metadata": {},
   "outputs": [],
   "source": [
    "#Start with f(t)\n",
    "#@@@\n",
    "\n",
    "# Now do the same for F(t)\n",
    "#@@@"
   ]
  },
  {
   "cell_type": "markdown",
   "id": "07f99362-202e-4ad6-913c-ac94f98733b1",
   "metadata": {},
   "source": [
    "## [c] Soil type\n",
    "Soil type will affect multiple variables. Use tables 7.1 (p. 224) and 7.2 (p. 231) in the textbook to find the right values for all soil types.\n",
    "Plot the functions for **silt loam, clay loam, and silty clay**, changing their associated K_s, psi, b, and theta_s values.\n",
    "Use P_val and theta_0_val to \"reset\" precipitation rate and intial soil moisture to their original values in every function call. "
   ]
  },
  {
   "cell_type": "code",
   "execution_count": null,
   "id": "b577cdf1-915d-4690-ae5c-9292504b7b45",
   "metadata": {},
   "outputs": [],
   "source": [
    "#Start with f(t)\n",
    "#@@@\n",
    "\n",
    "# Now do the same for F(t)\n",
    "#@@@"
   ]
  }
 ],
 "metadata": {
  "kernelspec": {
   "display_name": "Python 3 (ipykernel)",
   "language": "python",
   "name": "python3"
  },
  "language_info": {
   "codemirror_mode": {
    "name": "ipython",
    "version": 3
   },
   "file_extension": ".py",
   "mimetype": "text/x-python",
   "name": "python",
   "nbconvert_exporter": "python",
   "pygments_lexer": "ipython3",
   "version": "3.9.12"
  }
 },
 "nbformat": 4,
 "nbformat_minor": 5
}

{
 "cells": [
  {
   "cell_type": "markdown",
   "metadata": {},
   "source": [
    "# Terrestrial Hydrology Fall 2023 Lab 1\n",
    "\n",
    "Hi everyone! Welcome to your first python lab assignment. You will complete these assignments with a mix of responses as code and narrative text within this jupyter notebook document. To complete the assignment, go to File > Print Preview, and export as a PDF before uploading the assignment to Gradescope. \n",
    "\n",
    "Look for triple @@@ signs in places where we expect you to write code or respond to a question. \n",
    "The rest of the notebook should not require modification. "
   ]
  },
  {
   "cell_type": "code",
   "execution_count": 1,
   "metadata": {},
   "outputs": [],
   "source": [
    "import numpy as np\n",
    "import pandas as pd\n",
    "from datetime import datetime\n",
    "import matplotlib.pyplot as plt\n",
    "from matplotlib import dates\n",
    "import matplotlib.dates as mdates"
   ]
  },
  {
   "cell_type": "markdown",
   "metadata": {},
   "source": [
    "### [1] Import the CSV file using pandas\n",
    "Below, use the pandas library ('pd') to import data held in the \"BORR_WY_2022.csv\" file. "
   ]
  },
  {
   "cell_type": "code",
   "execution_count": 2,
   "metadata": {},
   "outputs": [],
   "source": [
    "# @@@ "
   ]
  },
  {
   "cell_type": "markdown",
   "metadata": {},
   "source": [
    "Print the table of the met data to see what variables you have. "
   ]
  },
  {
   "cell_type": "code",
   "execution_count": 3,
   "metadata": {},
   "outputs": [
    {
     "data": {
      "text/html": [
       "<div>\n",
       "<style scoped>\n",
       "    .dataframe tbody tr th:only-of-type {\n",
       "        vertical-align: middle;\n",
       "    }\n",
       "\n",
       "    .dataframe tbody tr th {\n",
       "        vertical-align: top;\n",
       "    }\n",
       "\n",
       "    .dataframe thead th {\n",
       "        text-align: right;\n",
       "    }\n",
       "</style>\n",
       "<table border=\"1\" class=\"dataframe\">\n",
       "  <thead>\n",
       "    <tr style=\"text-align: right;\">\n",
       "      <th></th>\n",
       "      <th>Time</th>\n",
       "      <th>Blue Oak Ranch Air Temp Avg degC</th>\n",
       "      <th>Blue Oak Ranch Rainfall mm</th>\n",
       "      <th>Blue Oak Ranch Relative Humidity Avg %</th>\n",
       "      <th>Blue Oak Ranch Soil Temp 100 mm Avg degC</th>\n",
       "      <th>Blue Oak Ranch Soil Temp 200 mm Avg degC</th>\n",
       "      <th>Blue Oak Ranch Soil Temp 50 mm Avg degC</th>\n",
       "      <th>Blue Oak Ranch Soil Temp 500 mm Avg degC</th>\n",
       "      <th>Blue Oak Ranch Total Solar Radiation Avg W/m^2</th>\n",
       "      <th>Blue Oak Ranch Volumetric Water Content Vertical Avg m^3/m^3</th>\n",
       "    </tr>\n",
       "  </thead>\n",
       "  <tbody>\n",
       "    <tr>\n",
       "      <th>0</th>\n",
       "      <td>2021-10-01 00:00:00</td>\n",
       "      <td>13.07</td>\n",
       "      <td>0.0</td>\n",
       "      <td>36.86</td>\n",
       "      <td>22.50</td>\n",
       "      <td>22.95</td>\n",
       "      <td>21.00</td>\n",
       "      <td>22.36</td>\n",
       "      <td>0.0</td>\n",
       "      <td>0.038</td>\n",
       "    </tr>\n",
       "    <tr>\n",
       "      <th>1</th>\n",
       "      <td>2021-10-01 00:10:00</td>\n",
       "      <td>13.12</td>\n",
       "      <td>0.0</td>\n",
       "      <td>35.98</td>\n",
       "      <td>22.39</td>\n",
       "      <td>22.94</td>\n",
       "      <td>20.87</td>\n",
       "      <td>22.36</td>\n",
       "      <td>0.0</td>\n",
       "      <td>0.038</td>\n",
       "    </tr>\n",
       "    <tr>\n",
       "      <th>2</th>\n",
       "      <td>2021-10-01 00:20:00</td>\n",
       "      <td>13.41</td>\n",
       "      <td>0.0</td>\n",
       "      <td>34.76</td>\n",
       "      <td>22.28</td>\n",
       "      <td>22.94</td>\n",
       "      <td>20.74</td>\n",
       "      <td>22.37</td>\n",
       "      <td>0.0</td>\n",
       "      <td>0.038</td>\n",
       "    </tr>\n",
       "    <tr>\n",
       "      <th>3</th>\n",
       "      <td>2021-10-01 00:30:00</td>\n",
       "      <td>13.41</td>\n",
       "      <td>0.0</td>\n",
       "      <td>34.51</td>\n",
       "      <td>22.17</td>\n",
       "      <td>22.94</td>\n",
       "      <td>20.62</td>\n",
       "      <td>22.37</td>\n",
       "      <td>0.0</td>\n",
       "      <td>0.038</td>\n",
       "    </tr>\n",
       "    <tr>\n",
       "      <th>4</th>\n",
       "      <td>2021-10-01 00:40:00</td>\n",
       "      <td>13.09</td>\n",
       "      <td>0.0</td>\n",
       "      <td>35.09</td>\n",
       "      <td>22.07</td>\n",
       "      <td>22.93</td>\n",
       "      <td>20.50</td>\n",
       "      <td>22.36</td>\n",
       "      <td>0.0</td>\n",
       "      <td>0.038</td>\n",
       "    </tr>\n",
       "    <tr>\n",
       "      <th>...</th>\n",
       "      <td>...</td>\n",
       "      <td>...</td>\n",
       "      <td>...</td>\n",
       "      <td>...</td>\n",
       "      <td>...</td>\n",
       "      <td>...</td>\n",
       "      <td>...</td>\n",
       "      <td>...</td>\n",
       "      <td>...</td>\n",
       "      <td>...</td>\n",
       "    </tr>\n",
       "    <tr>\n",
       "      <th>52555</th>\n",
       "      <td>2022-09-30 23:10:00</td>\n",
       "      <td>13.37</td>\n",
       "      <td>0.0</td>\n",
       "      <td>55.94</td>\n",
       "      <td>22.84</td>\n",
       "      <td>23.11</td>\n",
       "      <td>21.51</td>\n",
       "      <td>22.40</td>\n",
       "      <td>0.0</td>\n",
       "      <td>0.064</td>\n",
       "    </tr>\n",
       "    <tr>\n",
       "      <th>52556</th>\n",
       "      <td>2022-09-30 23:20:00</td>\n",
       "      <td>13.33</td>\n",
       "      <td>0.0</td>\n",
       "      <td>56.06</td>\n",
       "      <td>22.74</td>\n",
       "      <td>23.11</td>\n",
       "      <td>21.41</td>\n",
       "      <td>22.40</td>\n",
       "      <td>0.0</td>\n",
       "      <td>0.064</td>\n",
       "    </tr>\n",
       "    <tr>\n",
       "      <th>52557</th>\n",
       "      <td>2022-09-30 23:30:00</td>\n",
       "      <td>13.20</td>\n",
       "      <td>0.0</td>\n",
       "      <td>56.17</td>\n",
       "      <td>22.65</td>\n",
       "      <td>23.10</td>\n",
       "      <td>21.31</td>\n",
       "      <td>22.40</td>\n",
       "      <td>0.0</td>\n",
       "      <td>0.064</td>\n",
       "    </tr>\n",
       "    <tr>\n",
       "      <th>52558</th>\n",
       "      <td>2022-09-30 23:40:00</td>\n",
       "      <td>13.03</td>\n",
       "      <td>0.0</td>\n",
       "      <td>56.81</td>\n",
       "      <td>22.56</td>\n",
       "      <td>23.09</td>\n",
       "      <td>21.22</td>\n",
       "      <td>22.40</td>\n",
       "      <td>0.0</td>\n",
       "      <td>0.064</td>\n",
       "    </tr>\n",
       "    <tr>\n",
       "      <th>52559</th>\n",
       "      <td>2022-09-30 23:50:00</td>\n",
       "      <td>13.07</td>\n",
       "      <td>0.0</td>\n",
       "      <td>56.44</td>\n",
       "      <td>22.46</td>\n",
       "      <td>23.09</td>\n",
       "      <td>21.13</td>\n",
       "      <td>22.41</td>\n",
       "      <td>0.0</td>\n",
       "      <td>0.064</td>\n",
       "    </tr>\n",
       "  </tbody>\n",
       "</table>\n",
       "<p>52560 rows × 10 columns</p>\n",
       "</div>"
      ],
      "text/plain": [
       "                      Time  Blue Oak Ranch Air Temp Avg degC  \\\n",
       "0      2021-10-01 00:00:00                             13.07   \n",
       "1      2021-10-01 00:10:00                             13.12   \n",
       "2      2021-10-01 00:20:00                             13.41   \n",
       "3      2021-10-01 00:30:00                             13.41   \n",
       "4      2021-10-01 00:40:00                             13.09   \n",
       "...                    ...                               ...   \n",
       "52555  2022-09-30 23:10:00                             13.37   \n",
       "52556  2022-09-30 23:20:00                             13.33   \n",
       "52557  2022-09-30 23:30:00                             13.20   \n",
       "52558  2022-09-30 23:40:00                             13.03   \n",
       "52559  2022-09-30 23:50:00                             13.07   \n",
       "\n",
       "       Blue Oak Ranch Rainfall mm  Blue Oak Ranch Relative Humidity Avg %  \\\n",
       "0                             0.0                                   36.86   \n",
       "1                             0.0                                   35.98   \n",
       "2                             0.0                                   34.76   \n",
       "3                             0.0                                   34.51   \n",
       "4                             0.0                                   35.09   \n",
       "...                           ...                                     ...   \n",
       "52555                         0.0                                   55.94   \n",
       "52556                         0.0                                   56.06   \n",
       "52557                         0.0                                   56.17   \n",
       "52558                         0.0                                   56.81   \n",
       "52559                         0.0                                   56.44   \n",
       "\n",
       "       Blue Oak Ranch Soil Temp 100 mm Avg degC  \\\n",
       "0                                         22.50   \n",
       "1                                         22.39   \n",
       "2                                         22.28   \n",
       "3                                         22.17   \n",
       "4                                         22.07   \n",
       "...                                         ...   \n",
       "52555                                     22.84   \n",
       "52556                                     22.74   \n",
       "52557                                     22.65   \n",
       "52558                                     22.56   \n",
       "52559                                     22.46   \n",
       "\n",
       "       Blue Oak Ranch Soil Temp 200 mm Avg degC  \\\n",
       "0                                         22.95   \n",
       "1                                         22.94   \n",
       "2                                         22.94   \n",
       "3                                         22.94   \n",
       "4                                         22.93   \n",
       "...                                         ...   \n",
       "52555                                     23.11   \n",
       "52556                                     23.11   \n",
       "52557                                     23.10   \n",
       "52558                                     23.09   \n",
       "52559                                     23.09   \n",
       "\n",
       "       Blue Oak Ranch Soil Temp 50 mm Avg degC  \\\n",
       "0                                        21.00   \n",
       "1                                        20.87   \n",
       "2                                        20.74   \n",
       "3                                        20.62   \n",
       "4                                        20.50   \n",
       "...                                        ...   \n",
       "52555                                    21.51   \n",
       "52556                                    21.41   \n",
       "52557                                    21.31   \n",
       "52558                                    21.22   \n",
       "52559                                    21.13   \n",
       "\n",
       "       Blue Oak Ranch Soil Temp 500 mm Avg degC  \\\n",
       "0                                         22.36   \n",
       "1                                         22.36   \n",
       "2                                         22.37   \n",
       "3                                         22.37   \n",
       "4                                         22.36   \n",
       "...                                         ...   \n",
       "52555                                     22.40   \n",
       "52556                                     22.40   \n",
       "52557                                     22.40   \n",
       "52558                                     22.40   \n",
       "52559                                     22.41   \n",
       "\n",
       "       Blue Oak Ranch Total Solar Radiation Avg W/m^2  \\\n",
       "0                                                 0.0   \n",
       "1                                                 0.0   \n",
       "2                                                 0.0   \n",
       "3                                                 0.0   \n",
       "4                                                 0.0   \n",
       "...                                               ...   \n",
       "52555                                             0.0   \n",
       "52556                                             0.0   \n",
       "52557                                             0.0   \n",
       "52558                                             0.0   \n",
       "52559                                             0.0   \n",
       "\n",
       "       Blue Oak Ranch Volumetric Water Content Vertical Avg m^3/m^3  \n",
       "0                                                  0.038             \n",
       "1                                                  0.038             \n",
       "2                                                  0.038             \n",
       "3                                                  0.038             \n",
       "4                                                  0.038             \n",
       "...                                                  ...             \n",
       "52555                                              0.064             \n",
       "52556                                              0.064             \n",
       "52557                                              0.064             \n",
       "52558                                              0.064             \n",
       "52559                                              0.064             \n",
       "\n",
       "[52560 rows x 10 columns]"
      ]
     },
     "execution_count": 3,
     "metadata": {},
     "output_type": "execute_result"
    }
   ],
   "source": [
    "# @@@ (just type the variable name that contains the CSV table data)"
   ]
  },
  {
   "cell_type": "markdown",
   "metadata": {},
   "source": [
    "**QUESTION:** What is the temporal frequency of the data?"
   ]
  },
  {
   "cell_type": "markdown",
   "metadata": {},
   "source": [
    "**ANSWER:** @@@"
   ]
  },
  {
   "cell_type": "markdown",
   "metadata": {},
   "source": [
    "### [2] Beginning to Plot\n",
    "We will now start plotting the timeseries data, creating plots for air temperature, relative humidity, incoming solar radiation, and volumetric soil moisture. Do this using pyplot, in matplotlib. Label the y axis in each case, but do not include anything on the x axis. (You can use the provided line of code to neglect any x axis tick labels)."
   ]
  },
  {
   "cell_type": "code",
   "execution_count": 27,
   "metadata": {},
   "outputs": [],
   "source": [
    "# Here, plot the timeseries of Average Air Temperature. \n",
    "# @@@"
   ]
  },
  {
   "cell_type": "code",
   "execution_count": 26,
   "metadata": {},
   "outputs": [],
   "source": [
    "# Here, plot the timeseries of Relative Humidity.\n",
    "# @@@"
   ]
  },
  {
   "cell_type": "code",
   "execution_count": 25,
   "metadata": {},
   "outputs": [],
   "source": [
    "# Here, plot the timeseries of Total Solar Radiation.\n",
    "# @@@"
   ]
  },
  {
   "cell_type": "code",
   "execution_count": 24,
   "metadata": {},
   "outputs": [],
   "source": [
    "# Here, plot the timeseries of Vertically-Averaged Volumetric Water Content (soil moisture).\n",
    "# @@@"
   ]
  },
  {
   "cell_type": "markdown",
   "metadata": {},
   "source": [
    "### [3] Adding dates to the x axis\n",
    "This is a process that can look a bit different depending on your goals. To write dates on the x axes, we need to convert the dates from the table into python \"datetime\" objects. For now, we will do this for you with the following two lines of code:"
   ]
  },
  {
   "cell_type": "code",
   "execution_count": 8,
   "metadata": {},
   "outputs": [],
   "source": [
    "met_data_22.Time = pd.to_datetime(met_data_22['Time'], format='%Y-%m-%d %H:%M:%S.%f')\n",
    "met_data_22.set_index(['Time'],inplace=True)"
   ]
  },
  {
   "cell_type": "markdown",
   "metadata": {},
   "source": [
    "Now that we have python datetime objects set as the index of met_data_22, we can update our plots with dates. "
   ]
  },
  {
   "cell_type": "code",
   "execution_count": 23,
   "metadata": {},
   "outputs": [
    {
     "data": {
      "image/png": "[encoded data removed]",
      "text/plain": [
       "<Figure size 432x288 with 1 Axes>"
      ]
     },
     "metadata": {
      "needs_background": "light"
     },
     "output_type": "display_data"
    }
   ],
   "source": [
    "# Remake the last plot (of soil moisture), but now plot met_data_22.index against the soil moisture variable. \n",
    "# @@@\n",
    "\n",
    "# You will notice the x axis is very busy. Limit the number of xticks displayed using the following lines of code:\n",
    "ax = plt.gca()\n",
    "ax.xaxis.set_major_locator(mdates.MonthLocator(interval=2))\n",
    "ax.xaxis.set_major_formatter(mdates.DateFormatter('%d-%m-%Y'))\n",
    "\n",
    "# We will then use autoformat to rotate the dates into a legible arrangement. \n",
    "plt.gcf().autofmt_xdate()\n",
    "plt.show()"
   ]
  },
  {
   "cell_type": "markdown",
   "metadata": {},
   "source": [
    "### [4] Plotting 4 Soil Temperatures on the Same Plot\n",
    "Let's now expand our plotting skills so that we can put multiple things on the same axes. "
   ]
  },
  {
   "cell_type": "code",
   "execution_count": 19,
   "metadata": {},
   "outputs": [],
   "source": [
    "# Plot the Average Soil Temperatures at the four depths provided (50, 100, 200, 500 mm)\n",
    "# @@@\n",
    "\n",
    "# Use the same code as in Section [3] to prepare the x axis datetimes.\n",
    "# @@@\n",
    "\n",
    "# Add a legend to this figure to help with interpretation. \n",
    "# @@@"
   ]
  },
  {
   "cell_type": "markdown",
   "metadata": {},
   "source": [
    "**QUESTION:** Based on the overall patterns you see in the soil temperatures at different depths, how would you say soil temperature changes by season and depth at this site? (You can be brief; we will explore this in more detail later.)"
   ]
  },
  {
   "cell_type": "markdown",
   "metadata": {},
   "source": [
    "**ANSWER:** @@@"
   ]
  },
  {
   "cell_type": "markdown",
   "metadata": {},
   "source": [
    "### [5] Plot the rainfall as a bar plot\n",
    "Now, use matplotlib's bar plot function---bar()---to plot the Rainfall observed at the site (in mm). As in all other plots, add an appropriate y axis label. You will want to reuse the code from [3] for date tick formatting again. "
   ]
  },
  {
   "cell_type": "code",
   "execution_count": 20,
   "metadata": {},
   "outputs": [],
   "source": [
    "# Plot the Rainfall (mm) property against the index (datetimes) below. \n",
    "# @@@"
   ]
  },
  {
   "cell_type": "markdown",
   "metadata": {},
   "source": [
    "OK, let's now compare 2022 to the 2021 water year. "
   ]
  },
  {
   "cell_type": "code",
   "execution_count": 21,
   "metadata": {},
   "outputs": [],
   "source": [
    "# Import the 2021 Water Year Data. \n",
    "# @@@\n",
    "\n",
    "# Now do the same process of turning the time information into pandas datetime format as we did at the beginning of section [3].\n",
    "# @@@"
   ]
  },
  {
   "cell_type": "markdown",
   "metadata": {},
   "source": [
    "Plot the rainfall for 2022 and 2021 on top of each other using subplots---plt.subplots()."
   ]
  },
  {
   "cell_type": "code",
   "execution_count": 22,
   "metadata": {},
   "outputs": [],
   "source": [
    "# @@@"
   ]
  },
  {
   "cell_type": "markdown",
   "metadata": {},
   "source": [
    "Congrats! You've reached the end of Lab 1. "
   ]
  }
 ],
 "metadata": {
  "kernelspec": {
   "display_name": "Python 3 (ipykernel)",
   "language": "python",
   "name": "python3"
  },
  "language_info": {
   "codemirror_mode": {
    "name": "ipython",
    "version": 3
   },
   "file_extension": ".py",
   "mimetype": "text/x-python",
   "name": "python",
   "nbconvert_exporter": "python",
   "pygments_lexer": "ipython3",
   "version": "3.9.12"
  }
 },
 "nbformat": 4,
 "nbformat_minor": 4
}

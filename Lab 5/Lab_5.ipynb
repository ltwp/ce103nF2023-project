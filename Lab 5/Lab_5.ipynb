{
 "cells": [
  {
   "cell_type": "markdown",
   "id": "154695ee-8fa4-4538-9fad-91431a22ed19",
   "metadata": {},
   "source": [
    "# Terrestrial Hydrology Fall 2023 Lab 5 - Global reanalysis data\n",
    "Hi everyone! This is our fifth python lab assignment. Just as last time, you will complete these assignments with a mix of responses as code and narrative text within this jupyter notebook document. To complete the assignment, go to File > Print Preview, and export as a PDF (.pdf file) before uploading the assignment to Gradescope.\n",
    "\n",
    "Look for triple @@@ signs in places where we expect you to write code or respond to a question. The rest of the notebook should not require modification."
   ]
  },
  {
   "cell_type": "code",
   "execution_count": null,
   "id": "059ed917-fedd-44a6-8a9a-c89cdff58658",
   "metadata": {},
   "outputs": [],
   "source": [
    "import numpy as np\n",
    "import matplotlib.pyplot as plt\n",
    "from datetime import datetime\n",
    "from matplotlib import dates\n",
    "import matplotlib.dates as mdates\n",
    "import scipy\n",
    "from netCDF4 import Dataset"
   ]
  },
  {
   "cell_type": "markdown",
   "id": "e1e9575f-ceb8-43d7-b65b-da4a7c16e169",
   "metadata": {},
   "source": [
    "The data we will be using today is called reanalysis data. **Look up what \"reanalysis\" data means and explain the concept your own words:** \n",
    "\n",
    "@@@"
   ]
  },
  {
   "cell_type": "markdown",
   "id": "225f91c9-ebc3-4a37-9966-3feb5737be1f",
   "metadata": {},
   "source": [
    "## [1] Import the data\n",
    "We will be working with data in a .nc file type, a file called ERA5_data.nc. This is a product called ERA5 by the European Center for Medium-Range Weather Forecasts (learn more here: https://climate.copernicus.eu/climate-reanalysis). .nc files are well-structured and dense data format that is common in large-scale data publishing. This .nc file is BIG (half a gigabyte) and thus we could not automatically share it with you: you need to download the file from bCourses and then upload it to your datahub folder--where this notebook file is--in order to use it. DO THIS NOW! \n",
    "\n",
    "Note that because this dataset is big, you may get close to hitting the 4GB memory limit on datahub. However, none of the solutions should require this. If you keep hitting the limit, re-assess or simplify your code to limit duplication of the data! \n",
    "\n",
    "Now in python, we will import the netdcf data. We need to do this variable-by-variable (the .nc file contains a lot). The data set is for one year (2022) of data over the entire globe with values a monthly basis."
   ]
  },
  {
   "cell_type": "code",
   "execution_count": null,
   "id": "d50f249d-7166-4e4b-ba3c-53e3a2bb2662",
   "metadata": {},
   "outputs": [],
   "source": [
    "ERA_file = Dataset(\"ERA5_data.nc\", mode = 'r')\n",
    "\n",
    "lat = ERA_file.variables['latitude'][:].data # latitude\n",
    "lon = ERA_file.variables['longitude'][:].data # longitude\n",
    "\n",
    "# Evaporation from bare soil\n",
    "E_bs = ERA_file.variables['evabs'][:].data #units: m of water equivalent\n",
    "\n",
    "# Evaporation from top of canopy\n",
    "E_tc = ERA_file.variables['evatc'][:].data #units: m of water equivalent\n",
    "\n",
    "# Potential Eavpotranspiration\n",
    "PET = ERA_file.variables['pev'][:].data #units: m "
   ]
  },
  {
   "cell_type": "markdown",
   "id": "36ef3347-d8b5-4fa1-afdc-238d044cd034",
   "metadata": {},
   "source": [
    "**Explore the shape of lat, lon, E_bs, E_tc, and PET using the numpy shape function and print**"
   ]
  },
  {
   "cell_type": "code",
   "execution_count": null,
   "id": "938c96ab-88de-4e9d-ad46-3008d46a04db",
   "metadata": {},
   "outputs": [],
   "source": [
    "print(lat.shape)\n",
    "print(lon.shape)\n",
    "print(E_bs.shape)\n",
    "print(E_tc.shape)\n",
    "print(PET.shape)"
   ]
  },
  {
   "cell_type": "markdown",
   "id": "146406d2-8fec-4c9f-a1d3-47c2249f7bce",
   "metadata": {},
   "source": [
    "**Comment on what each axis of the E_bs, E_tc, and PET variables represent:**\n",
    "\n",
    "Axis 0: @@@\n",
    "Axis 1: @@@\n",
    "Axis 2: @@@"
   ]
  },
  {
   "cell_type": "markdown",
   "id": "6b3d38ba-501a-4d09-b3b8-b5c7408c06e6",
   "metadata": {},
   "source": [
    "## [2] Clean up the data"
   ]
  },
  {
   "cell_type": "markdown",
   "id": "9094d7d8-bb4c-4cf7-a407-112ad1c55919",
   "metadata": {},
   "source": [
    "The fill in value for oceans is -32767, let's set any cell that has that value to NaN instead. "
   ]
  },
  {
   "cell_type": "code",
   "execution_count": null,
   "id": "4da204a7-3e6b-4056-b6f7-41da30028ae9",
   "metadata": {},
   "outputs": [],
   "source": [
    "E_tc[E_tc == -32767] = np.nan"
   ]
  },
  {
   "cell_type": "markdown",
   "id": "bc53ae1a-de02-46b7-95d6-664fb6316e74",
   "metadata": {},
   "source": [
    "Do the same for bare soils and PET. This makes it so that when we plot, these points on earth will be blank/white instead of colored. "
   ]
  },
  {
   "cell_type": "code",
   "execution_count": null,
   "id": "5f3076df-9480-4fc1-9dd9-98b4aaef628b",
   "metadata": {},
   "outputs": [],
   "source": [
    "# @@@\n",
    "E_bs[E_bs == -32767] = np.nan\n",
    "PET[PET == -32767] = np.nan"
   ]
  },
  {
   "cell_type": "markdown",
   "id": "a3a53c98-3c55-47ed-8fd9-cd837282ca7b",
   "metadata": {},
   "source": [
    "## [3] Plot the data"
   ]
  },
  {
   "cell_type": "markdown",
   "id": "bfc4215d-455c-42e5-bd29-245d67f4a1c6",
   "metadata": {},
   "source": [
    "Plot the data for **top of the canopy Evaporation (E_tc) in January** (month 0) using imshow(). Note that we do not need the labels since we are mapping the whole world, so we remove x- and y-axis labels. Add a colorbar at the bottom and a title."
   ]
  },
  {
   "cell_type": "code",
   "execution_count": null,
   "id": "c897ebfd-b916-4b1f-91fe-2e3fa6b469c2",
   "metadata": {},
   "outputs": [],
   "source": [
    "plt.imshow(E_tc[0,:])\n",
    "\n",
    "plt.xticks([])\n",
    "plt.yticks([])\n",
    "plt.colorbar(location=\"bottom\")\n",
    "plt.title('Evaporation, top of canopy, January 2022')"
   ]
  },
  {
   "cell_type": "markdown",
   "id": "e22899e5-c309-4959-875b-962f547b903a",
   "metadata": {},
   "source": [
    "Comment on the range of values you observe: explain why the values are negative. \n",
    "\n",
    "@@@"
   ]
  },
  {
   "cell_type": "markdown",
   "id": "17365090-c504-42b5-b7d5-13abf157d347",
   "metadata": {},
   "source": [
    "Now, make similar maps for January bare soils evaporation (E_bs) and PET variables. "
   ]
  },
  {
   "cell_type": "code",
   "execution_count": null,
   "id": "32518d59-f251-4177-9252-73696b6ba875",
   "metadata": {},
   "outputs": [],
   "source": [
    "# Plot E_bs in the month of January 2022, similar to how we did immediately above with the E_tc variable. \n",
    "# @@@"
   ]
  },
  {
   "cell_type": "code",
   "execution_count": null,
   "id": "ff509b8c-0978-4362-93a2-a616696577ea",
   "metadata": {},
   "outputs": [],
   "source": [
    "# Plot PET in the month of January 2022, similar to how we did in the past two maps. \n",
    "# @@@"
   ]
  },
  {
   "cell_type": "markdown",
   "id": "fb9d0e06-7051-46e6-9f38-5de6d3155f69",
   "metadata": {},
   "source": [
    "To help us continue with the rest of our analysis, let's turn the values into positive amounts of water:\n"
   ]
  },
  {
   "cell_type": "code",
   "execution_count": null,
   "id": "6ad1b1e2-8529-4cb5-8646-f1ad36d082ae",
   "metadata": {},
   "outputs": [],
   "source": [
    "E_tc = -E_tc\n",
    "E_bs = -E_bs\n",
    "PET = -PET"
   ]
  },
  {
   "cell_type": "markdown",
   "id": "5f45b6c6-4942-4abd-9c5f-ee29f038b2f3",
   "metadata": {},
   "source": [
    "## [4] Comparisons in time"
   ]
  },
  {
   "cell_type": "markdown",
   "id": "913f56e4-5846-4d65-9338-7fd6ec3e7b78",
   "metadata": {},
   "source": [
    "Plot the difference between June and July for all three variables of interest. We will center the colorbar around 0 and use a \"diverging\" colorscheme. "
   ]
  },
  {
   "cell_type": "code",
   "execution_count": null,
   "id": "97c64787-4bec-41ef-9288-8dff8f4dd10b",
   "metadata": {},
   "outputs": [],
   "source": [
    "plt.imshow(PET[5,:]-PET[0,:], cmap = \"coolwarm\", vmin = -0.05, vmax = 0.05)\n",
    "# Notice that the above line of code is taking PET in June and subtracting PET in January. \n",
    "\n",
    "# Complete the rest... to remove x and yticks, make a colorbar, and title the plot/map. \n",
    "# @@@"
   ]
  },
  {
   "cell_type": "code",
   "execution_count": null,
   "id": "3f5959f4-04e9-4467-8bdd-915ad51fd47a",
   "metadata": {},
   "outputs": [],
   "source": [
    "# Create the same same for E_bs, make sure to adjust the min and max values to reflect the range of values.\n",
    "# This time, make vmin -0.005 and vmax 0.005. \n",
    "# @@@"
   ]
  },
  {
   "cell_type": "code",
   "execution_count": null,
   "id": "c137cc41-929d-4286-a819-7d5ce7bde9cf",
   "metadata": {},
   "outputs": [],
   "source": [
    "# Create the same same for E_tc, make sure to adjust the min and max values to reflect the range of values.\n",
    "# This time, make vmin -0.002 and vmax 0.002.\n",
    "# @@@"
   ]
  },
  {
   "cell_type": "markdown",
   "id": "867d6848-95aa-4873-b238-4ddb7f8dc70d",
   "metadata": {},
   "source": [
    "Comment on the patterns observed for all three variables: when are the differences highest and where? Lowest and where? Does this intuitively makes sense? What are surprising things you notice in the maps? \n",
    "\n",
    "@@@"
   ]
  },
  {
   "cell_type": "markdown",
   "id": "ca1c9faa-fba3-4792-9fc6-ece10f280ce1",
   "metadata": {},
   "source": [
    "## [5] Comparisons between variables"
   ]
  },
  {
   "cell_type": "markdown",
   "id": "bf887f15-0c11-4ccd-bd2e-6326c8c8ca13",
   "metadata": {},
   "source": [
    "Plot the difference between E_bs and E_tp and between E_bs+E_tp and PET for January (month 0) and June (month 5), make sure you adjust the colorbar for each plot so that features come out."
   ]
  },
  {
   "cell_type": "code",
   "execution_count": null,
   "id": "438b50e5-7ca8-490b-9ee9-d4770be7043e",
   "metadata": {},
   "outputs": [],
   "source": [
    "plt.imshow(E_bs[0,:]-E_tc[0,:], cmap = \"coolwarm\", vmin = -0.002, vmax = 0.002)\n",
    "plt.xticks([])\n",
    "plt.yticks([])\n",
    "plt.colorbar(location=\"bottom\")\n",
    "plt.title('Evaporation from bare soils - top of canopy, January ')\n",
    "plt.show()\n",
    "\n",
    "# Now do the same, but for June\n",
    "# @@@"
   ]
  },
  {
   "cell_type": "code",
   "execution_count": null,
   "id": "a055ebb0-5c6c-4fcc-b637-3e4bd9cec753",
   "metadata": {},
   "outputs": [],
   "source": [
    "# Here, plot PET - (E_bs + E_tc) in January, and then a separate plot for June. \n",
    "# (In both, vmax = 0.05). \n",
    "\n",
    "# @@@ "
   ]
  },
  {
   "cell_type": "markdown",
   "id": "138f5d85-f36a-4f49-8bfc-de326e5f21bc",
   "metadata": {},
   "source": [
    "Comment on spatial the patterns that you are seeing, as well as the differences between June and January: \n",
    "\n",
    "@@@ "
   ]
  },
  {
   "cell_type": "markdown",
   "id": "995d32c5-1366-4ab2-9738-efee12e78a96",
   "metadata": {},
   "source": [
    "# [6] Latitudinal averaging"
   ]
  },
  {
   "cell_type": "markdown",
   "id": "66fc7b0a-c7fe-4624-b66d-4af52f34b9d0",
   "metadata": {},
   "source": [
    "We are now going to average these metrics accross all longitudes in order to have a plot with an average value per latitude. Complete the code below to average in the correct axis direction:"
   ]
  },
  {
   "cell_type": "code",
   "execution_count": null,
   "id": "d4045190-d7f9-433f-adc2-a2b8cb2e11b8",
   "metadata": {},
   "outputs": [],
   "source": [
    "PET_lat_ave = np.nanmean(PET, axis = @@@)\n",
    "\n",
    "# NOTE: You may get a warning after this block of code runs (\"Mean of empty slice.\")\n",
    "# It is alerting you that thare are some latitudes entirely made of NaNs, which we expect in the southern ocean. \n",
    "\n",
    "# (If you want, use the shape function to see how this variable is smaller than the original variable.)"
   ]
  },
  {
   "cell_type": "markdown",
   "id": "90268605-d6c0-4b4e-b5eb-6b8706f241b0",
   "metadata": {},
   "source": [
    "Now do the same for the other 2 variables"
   ]
  },
  {
   "cell_type": "code",
   "execution_count": null,
   "id": "7e4d97aa-ae17-4847-946b-8baf9ba4f046",
   "metadata": {},
   "outputs": [],
   "source": [
    "E_bs_lat_ave = @@@\n",
    "E_tc_lat_ave = @@@ "
   ]
  },
  {
   "cell_type": "markdown",
   "id": "e4626863-6eaa-4d41-a70d-42522f13e9a6",
   "metadata": {},
   "source": [
    "The piece of code below will plot each month with a different color... with January in BLUE and December in RED."
   ]
  },
  {
   "cell_type": "code",
   "execution_count": null,
   "id": "2fec07a3-3eb3-416c-91a8-0fb09c8940a7",
   "metadata": {},
   "outputs": [],
   "source": [
    "n = 12\n",
    "colors = plt.cm.coolwarm(np.linspace(0, 1, n))\n",
    "for i in range(0,12):\n",
    "    plt.plot(lat,PET_lat_ave[i,:], color=colors[i])\n",
    "plt.xlim([-90,90])\n",
    "plt.xlabel('Latitude')\n",
    "plt.ylabel('PET (m)')"
   ]
  },
  {
   "cell_type": "markdown",
   "id": "3a6f263e-1b83-4afa-9fb3-9ca06c3c87d4",
   "metadata": {},
   "source": [
    "Reproduce the piece of code above for the other two variables"
   ]
  },
  {
   "cell_type": "code",
   "execution_count": null,
   "id": "fb4a237c-a120-4035-83f0-e5c5a11a8eb9",
   "metadata": {},
   "outputs": [],
   "source": [
    "# @@@ now do it for E_bs_lat_ave"
   ]
  },
  {
   "cell_type": "code",
   "execution_count": null,
   "id": "8c1f77ac-3927-43f1-8c9c-dbdc38252277",
   "metadata": {},
   "outputs": [],
   "source": [
    "# @@@ Now do it for E_tc_lat_ave"
   ]
  },
  {
   "cell_type": "markdown",
   "id": "e245caed-6bca-4e40-bd5f-d4c3fdaeeb70",
   "metadata": {},
   "source": [
    "Comment on the temporal evolution of the latitudinal evolution of each variables. Explain why the southern and northern hemisphere are different. \n",
    "\n",
    "@@@"
   ]
  },
  {
   "cell_type": "markdown",
   "id": "be9ed394-016a-41f5-9c5f-73e3b8c72397",
   "metadata": {},
   "source": [
    "# [7] Temporal averaging"
   ]
  },
  {
   "cell_type": "markdown",
   "id": "49fea8de-43ce-4ba5-958e-4c8cfff6f1e1",
   "metadata": {},
   "source": [
    "Now let's average alng the 0 axis (months) to obtain a temporal average over the entire year."
   ]
  },
  {
   "cell_type": "code",
   "execution_count": null,
   "id": "d2fafe10-6153-4d5d-84a8-f77c34df5606",
   "metadata": {},
   "outputs": [],
   "source": [
    "PET_ave = np.nanmean(PET_lat_ave, axis = 0)\n",
    "E_bs_ave = np.nanmean(E_bs_lat_ave, axis = 0)\n",
    "E_tc_ave = np.nanmean(E_tc_lat_ave, axis = 0)\n",
    "\n",
    "# Note, you may get the same \"Mean of Empty Slice\" warning. Keep going anyway! "
   ]
  },
  {
   "cell_type": "markdown",
   "id": "0b31d115-7c44-40db-a35d-739d49e89f10",
   "metadata": {},
   "source": [
    "Plot PET_ave in one plot and then E_bs_ave and E_tc_ave together in a separate plot."
   ]
  },
  {
   "cell_type": "code",
   "execution_count": null,
   "id": "779ec69a-b94f-4b5c-9a77-6b70bdf7d8de",
   "metadata": {},
   "outputs": [],
   "source": [
    "plt.plot(lat,PET_ave, color = 'red')\n",
    "plt.xlim([-90,90])\n",
    "plt.xlabel('Latitude')\n",
    "plt.ylabel('PET(m)');\n",
    "plt.show()"
   ]
  },
  {
   "cell_type": "code",
   "execution_count": null,
   "id": "3f2567ab",
   "metadata": {},
   "outputs": [],
   "source": [
    "# Below, plot E_bs_ave and E_tc_ave together on the same plot.\n",
    "# You can use essentially the same code as just above when you plotted PET_ave. \n",
    "# @@@ "
   ]
  },
  {
   "cell_type": "markdown",
   "id": "58fa4f6a-5d9b-4518-8f61-9d084ca8bd72",
   "metadata": {},
   "source": [
    "What kind of information do these two plots tell you about the world and the drivers of E/ET/PET?"
   ]
  },
  {
   "cell_type": "markdown",
   "id": "15af6799-1786-4436-8f5d-82d15048ab33",
   "metadata": {},
   "source": [
    "@@@"
   ]
  },
  {
   "cell_type": "markdown",
   "id": "42c49695-180c-4537-9acf-692b93bdaf79",
   "metadata": {},
   "source": [
    "# THE END! :) "
   ]
  }
 ],
 "metadata": {
  "kernelspec": {
   "display_name": "Python 3 (ipykernel)",
   "language": "python",
   "name": "python3"
  },
  "language_info": {
   "codemirror_mode": {
    "name": "ipython",
    "version": 3
   },
   "file_extension": ".py",
   "mimetype": "text/x-python",
   "name": "python",
   "nbconvert_exporter": "python",
   "pygments_lexer": "ipython3",
   "version": "3.9.12"
  }
 },
 "nbformat": 4,
 "nbformat_minor": 5
}
